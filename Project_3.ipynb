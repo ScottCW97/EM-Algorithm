{
 "cells": [
  {
   "cell_type": "markdown",
   "id": "af65c9f0",
   "metadata": {},
   "source": [
    "# Importing Dependencies"
   ]
  },
  {
   "cell_type": "code",
   "execution_count": 1,
   "id": "fafa50a8",
   "metadata": {},
   "outputs": [],
   "source": [
    "# Importing necessary libraries\n",
    "import math\n",
    "import numpy as np"
   ]
  },
  {
   "cell_type": "markdown",
   "id": "54f8f139",
   "metadata": {},
   "source": [
    "# Defining distributions and simulating mixture samples"
   ]
  },
  {
   "cell_type": "code",
   "execution_count": 2,
   "id": "416a10dd",
   "metadata": {},
   "outputs": [],
   "source": [
    "# Defining distributions\n",
    "f1 = lambda x: 1/math.sqrt(2*math.pi*2) * math.exp(-((x - 4)**2)/(2*2))\n",
    "f2 = lambda x: 1/math.sqrt(2*math.pi*5) * math.exp(-((x - 1.7)**2)/(2*5))\n",
    "\n",
    "# Generating 10,000 values from the mixture model: 0.35 * f1 + 0.65 * f2\n",
    "pi = .286\n",
    "mix = []\n",
    "for i in range(10000):\n",
    "    if(i < pi*10000):\n",
    "        mix.append(np.random.normal(4.0, math.sqrt(2)))\n",
    "    else:\n",
    "        mix.append(np.random.normal(1.7, math.sqrt(5)))"
   ]
  },
  {
   "cell_type": "markdown",
   "id": "ba63236e",
   "metadata": {},
   "source": [
    "# EM Algorithm for one mixing proportion"
   ]
  },
  {
   "cell_type": "code",
   "execution_count": 3,
   "id": "8adf291b",
   "metadata": {},
   "outputs": [
    {
     "name": "stdout",
     "output_type": "stream",
     "text": [
      "Estimations:('0.277', '0.723') vs True:(0.286, 0.714)\n"
     ]
    }
   ],
   "source": [
    "# EM Algorithm\n",
    "err = 10\n",
    "threshold = 10**(-15)\n",
    "\n",
    "# Give an initial value of pi\n",
    "pi_0 = 0.5\n",
    "\n",
    "while err > threshold:\n",
    "    # E Step\n",
    "    z = []\n",
    "    for i in range(len(mix)):\n",
    "        value = (pi_0 * f1(mix[i]))/(pi_0*f1(mix[i]) + (1-pi_0)*f2(mix[i]))\n",
    "        z.append(value)\n",
    "\n",
    "    # M Step\n",
    "    pi_new = sum(z)/len(z)\n",
    "\n",
    "    # Calculate error to check for convergence\n",
    "    err = abs(pi_new - pi_0)/pi_0\n",
    "    \n",
    "    if(err > threshold):\n",
    "        pi_0 = pi_new\n",
    "    else:\n",
    "        pi_EM = pi_new\n",
    "        print(\"Estimations:\" + str((\"{:.3f}\".format(pi_EM), \"{:.3f}\".format(1-pi_EM))) + \" vs True:\" + str((pi,(1-pi))))\n"
   ]
  },
  {
   "cell_type": "markdown",
   "id": "b68e76f1",
   "metadata": {},
   "source": [
    "# Generalizing the example for any mixing proportion"
   ]
  },
  {
   "cell_type": "code",
   "execution_count": 6,
   "id": "a1449d02",
   "metadata": {},
   "outputs": [],
   "source": [
    "def EM(u1, u2, var1, var2, pi, threshold):\n",
    "    # Defining distributions\n",
    "    f1 = lambda x: 1/math.sqrt(2*math.pi*var1) * math.exp(-((x - u1)**2)/(2*var1))\n",
    "    f2 = lambda x: 1/math.sqrt(2*math.pi*var2) * math.exp(-((x - u2)**2)/(2*var2))\n",
    "    \n",
    "    mix = []\n",
    "    for i in range(10000):\n",
    "        if(i < pi*10000):\n",
    "            mix.append(np.random.normal(u1, math.sqrt(var1)))\n",
    "        else:\n",
    "            mix.append(np.random.normal(u2, math.sqrt(var2)))\n",
    "\n",
    "    # EM Algorithm\n",
    "    err = 10\n",
    "\n",
    "    # Give an initial value of pi\n",
    "    pi_0 = 0.5\n",
    "\n",
    "    while err > threshold:\n",
    "        # E Step\n",
    "        z = []\n",
    "        for i in range(len(mix)):\n",
    "            value = (pi_0 * f1(mix[i]))/(pi_0*f1(mix[i]) + (1-pi_0)*f2(mix[i]))\n",
    "            z.append(value)\n",
    "\n",
    "        # M Step\n",
    "        pi_new = sum(z)/len(z)\n",
    "\n",
    "        # Calculate relative error to check for convergence\n",
    "        err = abs(pi_new - pi_0)/pi_0\n",
    "\n",
    "        if(err > threshold):\n",
    "            pi_0 = pi_new\n",
    "        else:\n",
    "            pi_EM = pi_new\n",
    "            print(\"Estimations:\" + str((\"{:.3f}\".format(pi_EM), \"{:.3f}\".format(1-pi_EM))) + \" vs True:\" + str((\"{:.3f}\".format(pi), \"{:.3f}\".format(1-pi))))\n",
    "            \n",
    "            if(pi == 0 or (1-pi) == 0):\n",
    "                # Calculating the absolute error between the estimates and the true values\n",
    "                error = (\"{:.3f}\".format(abs(pi - pi_EM)), \"{:.3f}\".format(abs((1 - pi) - (1 - pi_EM))))\n",
    "                print(\"To avoid division by zero, the absolute error between the estimates and the true values is: \" + str(error))\n",
    "            else:\n",
    "                # Calculating the relative error between the estimates and the true values\n",
    "                error = (\"{:.3f}\".format(abs(pi - pi_EM)/pi), \"{:.3f}\".format(abs((1 - pi) - (1 - pi_EM))/(1-pi)))\n",
    "                print(\"The relative error between the estimates and the true values is: \" + str(error))\n",
    "                \n",
    "                \n",
    "                "
   ]
  },
  {
   "cell_type": "code",
   "execution_count": 7,
   "id": "5683d828",
   "metadata": {},
   "outputs": [
    {
     "name": "stdout",
     "output_type": "stream",
     "text": [
      "Estimations:('0.292', '0.708') vs True:('0.286', '0.714')\n",
      "The relative error between the estimates and the true values is: ('0.022', '0.009')\n"
     ]
    }
   ],
   "source": [
    "EM(4, 1.7, 2, 5, 0.286, 10**(-15))"
   ]
  },
  {
   "cell_type": "markdown",
   "id": "2d2de896",
   "metadata": {},
   "source": [
    "# Testing on multiple mixing proportions"
   ]
  },
  {
   "cell_type": "code",
   "execution_count": 10,
   "id": "e2b49075",
   "metadata": {},
   "outputs": [],
   "source": [
    "pi_mult = np.linspace(0, 1, 50, True)"
   ]
  },
  {
   "cell_type": "code",
   "execution_count": 11,
   "id": "4f2fa562",
   "metadata": {},
   "outputs": [
    {
     "name": "stdout",
     "output_type": "stream",
     "text": [
      "Estimations:('0.000', '1.000') vs True:('0.000', '1.000')\n",
      "To avoid division by zero, the absolute error between the estimates and the true values is: ('0.000', '0.000')\n",
      "Estimations:('0.021', '0.979') vs True:('0.020', '0.980')\n",
      "The relative error between the estimates and the true values is: ('0.007', '0.000')\n",
      "Estimations:('0.050', '0.950') vs True:('0.041', '0.959')\n",
      "The relative error between the estimates and the true values is: ('0.214', '0.009')\n",
      "Estimations:('0.061', '0.939') vs True:('0.061', '0.939')\n",
      "The relative error between the estimates and the true values is: ('0.004', '0.000')\n",
      "Estimations:('0.092', '0.908') vs True:('0.082', '0.918')\n",
      "The relative error between the estimates and the true values is: ('0.129', '0.011')\n",
      "Estimations:('0.110', '0.890') vs True:('0.102', '0.898')\n",
      "The relative error between the estimates and the true values is: ('0.077', '0.009')\n",
      "Estimations:('0.124', '0.876') vs True:('0.122', '0.878')\n",
      "The relative error between the estimates and the true values is: ('0.014', '0.002')\n",
      "Estimations:('0.146', '0.854') vs True:('0.143', '0.857')\n",
      "The relative error between the estimates and the true values is: ('0.022', '0.004')\n",
      "Estimations:('0.170', '0.830') vs True:('0.163', '0.837')\n",
      "The relative error between the estimates and the true values is: ('0.044', '0.009')\n",
      "Estimations:('0.184', '0.816') vs True:('0.184', '0.816')\n",
      "The relative error between the estimates and the true values is: ('0.003', '0.001')\n",
      "Estimations:('0.204', '0.796') vs True:('0.204', '0.796')\n",
      "The relative error between the estimates and the true values is: ('0.001', '0.000')\n",
      "Estimations:('0.220', '0.780') vs True:('0.224', '0.776')\n",
      "The relative error between the estimates and the true values is: ('0.022', '0.006')\n",
      "Estimations:('0.250', '0.750') vs True:('0.245', '0.755')\n",
      "The relative error between the estimates and the true values is: ('0.023', '0.007')\n",
      "Estimations:('0.265', '0.735') vs True:('0.265', '0.735')\n",
      "The relative error between the estimates and the true values is: ('0.000', '0.000')\n",
      "Estimations:('0.283', '0.717') vs True:('0.286', '0.714')\n",
      "The relative error between the estimates and the true values is: ('0.010', '0.004')\n",
      "Estimations:('0.317', '0.683') vs True:('0.306', '0.694')\n",
      "The relative error between the estimates and the true values is: ('0.035', '0.016')\n",
      "Estimations:('0.341', '0.659') vs True:('0.327', '0.673')\n",
      "The relative error between the estimates and the true values is: ('0.044', '0.021')\n",
      "Estimations:('0.341', '0.659') vs True:('0.347', '0.653')\n",
      "The relative error between the estimates and the true values is: ('0.017', '0.009')\n",
      "Estimations:('0.382', '0.618') vs True:('0.367', '0.633')\n",
      "The relative error between the estimates and the true values is: ('0.040', '0.023')\n",
      "Estimations:('0.396', '0.604') vs True:('0.388', '0.612')\n",
      "The relative error between the estimates and the true values is: ('0.022', '0.014')\n",
      "Estimations:('0.412', '0.588') vs True:('0.408', '0.592')\n",
      "The relative error between the estimates and the true values is: ('0.009', '0.006')\n",
      "Estimations:('0.419', '0.581') vs True:('0.429', '0.571')\n",
      "The relative error between the estimates and the true values is: ('0.023', '0.017')\n",
      "Estimations:('0.454', '0.546') vs True:('0.449', '0.551')\n",
      "The relative error between the estimates and the true values is: ('0.011', '0.009')\n",
      "Estimations:('0.468', '0.532') vs True:('0.469', '0.531')\n",
      "The relative error between the estimates and the true values is: ('0.003', '0.003')\n",
      "Estimations:('0.489', '0.511') vs True:('0.490', '0.510')\n",
      "The relative error between the estimates and the true values is: ('0.002', '0.002')\n",
      "Estimations:('0.522', '0.478') vs True:('0.510', '0.490')\n",
      "The relative error between the estimates and the true values is: ('0.022', '0.023')\n",
      "Estimations:('0.533', '0.467') vs True:('0.531', '0.469')\n",
      "The relative error between the estimates and the true values is: ('0.004', '0.004')\n",
      "Estimations:('0.555', '0.445') vs True:('0.551', '0.449')\n",
      "The relative error between the estimates and the true values is: ('0.008', '0.010')\n",
      "Estimations:('0.560', '0.440') vs True:('0.571', '0.429')\n",
      "The relative error between the estimates and the true values is: ('0.021', '0.028')\n",
      "Estimations:('0.573', '0.427') vs True:('0.592', '0.408')\n",
      "The relative error between the estimates and the true values is: ('0.031', '0.046')\n",
      "Estimations:('0.612', '0.388') vs True:('0.612', '0.388')\n",
      "The relative error between the estimates and the true values is: ('0.001', '0.002')\n",
      "Estimations:('0.621', '0.379') vs True:('0.633', '0.367')\n",
      "The relative error between the estimates and the true values is: ('0.018', '0.032')\n",
      "Estimations:('0.642', '0.358') vs True:('0.653', '0.347')\n",
      "The relative error between the estimates and the true values is: ('0.017', '0.032')\n",
      "Estimations:('0.688', '0.312') vs True:('0.673', '0.327')\n",
      "The relative error between the estimates and the true values is: ('0.022', '0.045')\n",
      "Estimations:('0.689', '0.311') vs True:('0.694', '0.306')\n",
      "The relative error between the estimates and the true values is: ('0.007', '0.016')\n",
      "Estimations:('0.714', '0.286') vs True:('0.714', '0.286')\n",
      "The relative error between the estimates and the true values is: ('0.000', '0.000')\n",
      "Estimations:('0.731', '0.269') vs True:('0.735', '0.265')\n",
      "The relative error between the estimates and the true values is: ('0.005', '0.014')\n",
      "Estimations:('0.753', '0.247') vs True:('0.755', '0.245')\n",
      "The relative error between the estimates and the true values is: ('0.002', '0.007')\n",
      "Estimations:('0.767', '0.233') vs True:('0.776', '0.224')\n",
      "The relative error between the estimates and the true values is: ('0.011', '0.037')\n",
      "Estimations:('0.800', '0.200') vs True:('0.796', '0.204')\n",
      "The relative error between the estimates and the true values is: ('0.005', '0.018')\n",
      "Estimations:('0.817', '0.183') vs True:('0.816', '0.184')\n",
      "The relative error between the estimates and the true values is: ('0.000', '0.002')\n",
      "Estimations:('0.838', '0.162') vs True:('0.837', '0.163')\n",
      "The relative error between the estimates and the true values is: ('0.001', '0.005')\n",
      "Estimations:('0.855', '0.145') vs True:('0.857', '0.143')\n",
      "The relative error between the estimates and the true values is: ('0.002', '0.014')\n",
      "Estimations:('0.873', '0.127') vs True:('0.878', '0.122')\n",
      "The relative error between the estimates and the true values is: ('0.005', '0.033')\n",
      "Estimations:('0.904', '0.096') vs True:('0.898', '0.102')\n",
      "The relative error between the estimates and the true values is: ('0.007', '0.059')\n",
      "Estimations:('0.917', '0.083') vs True:('0.918', '0.082')\n",
      "The relative error between the estimates and the true values is: ('0.002', '0.023')\n",
      "Estimations:('0.944', '0.056') vs True:('0.939', '0.061')\n",
      "The relative error between the estimates and the true values is: ('0.006', '0.086')\n",
      "Estimations:('0.958', '0.042') vs True:('0.959', '0.041')\n",
      "The relative error between the estimates and the true values is: ('0.001', '0.029')\n",
      "Estimations:('0.978', '0.022') vs True:('0.980', '0.020')\n",
      "The relative error between the estimates and the true values is: ('0.001', '0.070')\n",
      "Estimations:('0.999', '0.001') vs True:('1.000', '0.000')\n",
      "To avoid division by zero, the absolute error between the estimates and the true values is: ('0.001', '0.001')\n"
     ]
    }
   ],
   "source": [
    "for i in range(len(pi_mult)):\n",
    "    # Calculating mixing proportions\n",
    "    EM(4, 1.7, 2, 5, pi_mult[i], 10**(-15))\n",
    "    "
   ]
  }
 ],
 "metadata": {
  "kernelspec": {
   "display_name": "Python 3 (ipykernel)",
   "language": "python",
   "name": "python3"
  },
  "language_info": {
   "codemirror_mode": {
    "name": "ipython",
    "version": 3
   },
   "file_extension": ".py",
   "mimetype": "text/x-python",
   "name": "python",
   "nbconvert_exporter": "python",
   "pygments_lexer": "ipython3",
   "version": "3.10.9"
  }
 },
 "nbformat": 4,
 "nbformat_minor": 5
}
